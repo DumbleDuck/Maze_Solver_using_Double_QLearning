{
 "cells": [
  {
   "cell_type": "code",
   "execution_count": 1,
   "id": "16c201e6-30fc-432d-a665-455dc2bc383f",
   "metadata": {},
   "outputs": [],
   "source": [
    "import numpy as np\n",
    "import gymnasium as gym\n",
    "import matplotlib.pyplot as plt\n",
    "import random\n",
    "import os\n",
    "from IPython.display import clear_output\n",
    "import matplotlib.pyplot as plt "
   ]
  },
  {
   "cell_type": "code",
   "execution_count": 2,
   "id": "2266647e-86f0-47d8-9014-88598addcd46",
   "metadata": {},
   "outputs": [],
   "source": [
    "class agent():\n",
    "    \n",
    "    def __init__(self, env, gamma= 0.7, epsilon= 0.1, learning_rate= 0.05):\n",
    "        self.gamma= gamma\n",
    "        self.learning_rate= learning_rate\n",
    "        self.epsilon = epsilon\n",
    "        self.q = np.zeros((env.observation_space.n, env.action_space.n))  #q_values\n",
    "        self.dq = np.zeros((env.observation_space.n, env.action_space.n)) #for double Q learning\n",
    "        self.env = env\n",
    "    \n",
    "    #Epsilon greedy policy\n",
    "    def e_greedy(self, obs, q):\n",
    "        num =  q.shape[1]\n",
    "        prob = (self.epsilon/num) * np.ones(num)    #prob of sub-optimal actions\n",
    "        best = np.random.choice(np.flatnonzero(np.isclose(q[obs], q[obs].max(), rtol=0.01)))  \n",
    "        prob[best] = 1 - self.epsilon + (self.epsilon/num)  #prob of optimal actions\n",
    "        action = np.random.choice(np.arange(num), p=prob)\n",
    "        return action\n",
    "    \n",
    "    #Best action\n",
    "    def get_best_action(self ,obs, q):\n",
    "        best_action = np.random.choice(np.flatnonzero(np.isclose(q[obs], q[obs].max(), rtol=0.01)))  \n",
    "        return best_action \n",
    "\n",
    "    #Double Q learning\n",
    "    def Qlearning_train(self, ep, anneal):\n",
    "        for i in range(ep):\n",
    "            if (i+1)%1000==0:  #Exploration annealing\n",
    "                self.epsilon = max(self.epsilon - anneal, 0.01)\n",
    "            ep_return = 0\n",
    "            obs, _= self.env.reset()   #resets the environment\n",
    "            term=False                 \n",
    "            power= 0\n",
    "            while term !=True:         #until episode terminates\n",
    "                action = self.e_greedy(obs, self.q+ self.dq)\n",
    "                next_obs, reward, term, _, _ = self.env.step(action) \n",
    "                ep_return += (self.gamma**power)*reward    #Discounted return\n",
    "\n",
    "                #TD update\n",
    "                choice = np.random.choice(np.arange(2))\n",
    "                if(choice==0):\n",
    "                    max_a = self.get_best_action(next_obs, self.q)\n",
    "                    self.q[obs][action] += self.learning_rate*(reward + self.gamma* self.dq[next_obs][max_a] - self.q[obs][action])\n",
    "\n",
    "                else:\n",
    "                    max_a = self.get_best_action(next_obs, self.dq)\n",
    "                    self.dq[obs][action] += self.learning_rate*(reward + self.gamma* self.q[next_obs][max_a] - self.dq[obs][action])\n",
    "                    \n",
    "                obs = next_obs\n",
    "                power+=1\n",
    "            if (i + 1) % 100 == 0:  #print only every 100th value. Increase to speed training.\n",
    "                clear_output(wait=True)\n",
    "                print(f\"Episode {i+1} return: {ep_return}\")\n",
    "        self.env.close()\n",
    "\n",
    "    #Evaluating trained policy\n",
    "    def run_policy(self, test_env, loop):\n",
    "        for i in range(loop):\n",
    "            obs, _= test_env.reset()\n",
    "            term= False\n",
    "            while term !=True:\n",
    "                test_env.render()\n",
    "                action = self.get_best_action(obs, self.q + self.dq)\n",
    "                obs, _, term, _, _ = test_env.step(action)\n",
    "        test_env.close()"
   ]
  },
  {
   "cell_type": "code",
   "execution_count": 8,
   "id": "ce32617f-b690-47f0-a71e-3bc5f4a3fc80",
   "metadata": {},
   "outputs": [
    {
     "name": "stdout",
     "output_type": "stream",
     "text": [
      "Episode 50000 return: 0.08235429999999996\n"
     ]
    }
   ],
   "source": [
    "#Training\n",
    "episodes=10000    #training episodes\n",
    "exp_anneal= 0.04  #exploration annealing\n",
    "map = [\"FFFF\", \n",
    "       \"FHFH\", \n",
    "       \"SHFH\", \n",
    "       \"FHFG\"]\n",
    "train_env = gym.make('FrozenLake-v1', render_mode= None, desc=map , map_name=\"4x4\", is_slippery=False)\n",
    "test_agent = agent(train_env, epsilon=0.5)\n",
    "\n",
    "test_agent.Qlearning_train(episodes, exp_anneal)"
   ]
  },
  {
   "cell_type": "code",
   "execution_count": 9,
   "id": "53999936-1f17-4afd-af4a-8b56cf714743",
   "metadata": {},
   "outputs": [
    {
     "data": {
      "image/png": "[encoded data removed]",
      "text/plain": [
       "<Figure size 800x800 with 1 Axes>"
      ]
     },
     "metadata": {},
     "output_type": "display_data"
    }
   ],
   "source": [
    "#Visualize the Q table\n",
    "map_height = 4 \n",
    "map_width = 4\n",
    "q_values = test_agent.q + test_agent.dq\n",
    "q_values= q_values.reshape(map_height, map_width, 4) \n",
    "q_values = q_values/ np.max(q_values)   #normalize Q values\n",
    "\n",
    "fig, axis = plt.subplots(figsize=(8, 8))\n",
    "\n",
    "axis.set_xlim(0, map_width)\n",
    "axis.set_ylim(0, map_height)\n",
    "axis.set_xticks(np.arange(0, map_width+1, 1))\n",
    "axis.set_yticks(np.arange(0, map_height+1, 1))\n",
    "axis.grid(True, linewidth=1) \n",
    "axis.set_title('Q_Values')\n",
    "\n",
    "for y in range(map_height):\n",
    "    for x in range(map_width):\n",
    "        for action in range(4):\n",
    "            if action == 0:  # Left\n",
    "                x_length, y_length = -.3 * q_values[y, x, action], 0\n",
    "            elif action == 1:  # Down\n",
    "                x_length, y_length = 0, .3 * q_values[y, x, action]\n",
    "            elif action == 2:  # Right\n",
    "                x_length, y_length = .3 * q_values[y, x, action], 0\n",
    "            elif action == 3:  # Up\n",
    "                x_length, y_length = 0, -.3 * q_values[y, x, action]\n",
    "            axis.arrow(x + 0.5, y + 0.5, x_length, y_length, color='black', head_width=0.03, head_length=0.03)\n",
    "\n",
    "plt.gca().invert_yaxis()\n",
    "plt.show()"
   ]
  },
  {
   "cell_type": "code",
   "execution_count": 7,
   "id": "a10f9e55-076b-494d-9ed7-5c50c536dece",
   "metadata": {},
   "outputs": [],
   "source": [
    "#Replaying the policy\n",
    "test_env = gym.make('FrozenLake-v1', render_mode= \"human\", desc=map , map_name=\"5x5\", is_slippery=False)\n",
    "loop= 4\n",
    "test_agent.run_policy(test_env, loop)"
   ]
  }
 ],
 "metadata": {
  "kernelspec": {
   "display_name": "Python 3 (ipykernel)",
   "language": "python",
   "name": "python3"
  },
  "language_info": {
   "codemirror_mode": {
    "name": "ipython",
    "version": 3
   },
   "file_extension": ".py",
   "mimetype": "text/x-python",
   "name": "python",
   "nbconvert_exporter": "python",
   "pygments_lexer": "ipython3",
   "version": "3.12.5"
  }
 },
 "nbformat": 4,
 "nbformat_minor": 5
}
